{
 "cells": [
  {
   "cell_type": "code",
   "execution_count": 9,
   "metadata": {},
   "outputs": [],
   "source": [
    "import psycopg2\n",
    "import pandas as pd"
   ]
  },
  {
   "cell_type": "code",
   "execution_count": 7,
   "metadata": {},
   "outputs": [],
   "source": [
    "db_params = {\n",
    "    'host': 'localhost',\n",
    "    'port': '5432',\n",
    "    'database': 'embraer'\n",
    "}"
   ]
  },
  {
   "cell_type": "code",
   "execution_count": 8,
   "metadata": {},
   "outputs": [],
   "source": [
    "def connect_to_database(params):\n",
    "    connection = psycopg2.connect(**params)\n",
    "    return connection"
   ]
  },
  {
   "cell_type": "code",
   "execution_count": 10,
   "metadata": {},
   "outputs": [],
   "source": [
    "def execute_query(connection, query):\n",
    "    cursor = connection.cursor()\n",
    "    cursor.execute(query)\n",
    "    columns = [desc[0] for desc in cursor.description]\n",
    "    results = cursor.fetchall()\n",
    "    cursor.close()\n",
    "    return pd.DataFrame(results, columns=columns)"
   ]
  },
  {
   "cell_type": "code",
   "execution_count": 11,
   "metadata": {},
   "outputs": [],
   "source": [
    "sql_query = \"SELECT * FROM teamusa;\""
   ]
  },
  {
   "cell_type": "code",
   "execution_count": 12,
   "metadata": {},
   "outputs": [
    {
     "name": "stdout",
     "output_type": "stream",
     "text": [
      "                 name team pos    salary  start_year  end_year  years\n",
      "0     Clayton Kershaw  LAD  SP  33000000        2014      2020      7\n",
      "1        Zack Greinke  ARI  SP  31876966        2016      2021      6\n",
      "2         David Price  BOS  SP  30000000        2016      2022      7\n",
      "3      Miguel Cabrera  DET  1B  28000000        2014      2023     10\n",
      "4    Justin Verlander  DET  SP  28000000        2013      2019      7\n",
      "..                ...  ...  ..       ...         ...       ...    ...\n",
      "863      Steve Selsky  BOS  RF    535000        2017      2017      1\n",
      "864     Stuart Turner  CIN   C    535000        2017      2017      1\n",
      "865    Vicente Campos  LAA  RP    535000        2017      2017      1\n",
      "866     Wandy Peralta  CIN  RP    535000        2017      2017      1\n",
      "867        Yandy Diaz  CLE  3B    535000        2017      2017      1\n",
      "\n",
      "[868 rows x 7 columns]\n",
      "Conexão fechada.\n"
     ]
    }
   ],
   "source": [
    "try:\n",
    "    connection = connect_to_database(db_params)\n",
    "\n",
    "    # Executar a consulta SQL e obter os resultados como DataFrame\n",
    "    df = execute_query(connection, sql_query)\n",
    "\n",
    "    # Exibir o DataFrame\n",
    "    print(df)\n",
    "\n",
    "except Exception as e:\n",
    "    print(f\"Ocorreu um erro: {e}\")\n",
    "\n",
    "finally:\n",
    "    # Certificar-se de fechar a conexão, independentemente do resultado\n",
    "    if connection is not None:\n",
    "        connection.close()\n",
    "        print(\"Conexão fechada.\")"
   ]
  },
  {
   "cell_type": "code",
   "execution_count": 13,
   "metadata": {},
   "outputs": [
    {
     "data": {
      "text/html": [
       "<div>\n",
       "<style scoped>\n",
       "    .dataframe tbody tr th:only-of-type {\n",
       "        vertical-align: middle;\n",
       "    }\n",
       "\n",
       "    .dataframe tbody tr th {\n",
       "        vertical-align: top;\n",
       "    }\n",
       "\n",
       "    .dataframe thead th {\n",
       "        text-align: right;\n",
       "    }\n",
       "</style>\n",
       "<table border=\"1\" class=\"dataframe\">\n",
       "  <thead>\n",
       "    <tr style=\"text-align: right;\">\n",
       "      <th></th>\n",
       "      <th>name</th>\n",
       "      <th>team</th>\n",
       "      <th>pos</th>\n",
       "      <th>salary</th>\n",
       "      <th>start_year</th>\n",
       "      <th>end_year</th>\n",
       "      <th>years</th>\n",
       "    </tr>\n",
       "  </thead>\n",
       "  <tbody>\n",
       "    <tr>\n",
       "      <th>0</th>\n",
       "      <td>Clayton Kershaw</td>\n",
       "      <td>LAD</td>\n",
       "      <td>SP</td>\n",
       "      <td>33000000</td>\n",
       "      <td>2014</td>\n",
       "      <td>2020</td>\n",
       "      <td>7</td>\n",
       "    </tr>\n",
       "    <tr>\n",
       "      <th>1</th>\n",
       "      <td>Zack Greinke</td>\n",
       "      <td>ARI</td>\n",
       "      <td>SP</td>\n",
       "      <td>31876966</td>\n",
       "      <td>2016</td>\n",
       "      <td>2021</td>\n",
       "      <td>6</td>\n",
       "    </tr>\n",
       "    <tr>\n",
       "      <th>2</th>\n",
       "      <td>David Price</td>\n",
       "      <td>BOS</td>\n",
       "      <td>SP</td>\n",
       "      <td>30000000</td>\n",
       "      <td>2016</td>\n",
       "      <td>2022</td>\n",
       "      <td>7</td>\n",
       "    </tr>\n",
       "    <tr>\n",
       "      <th>3</th>\n",
       "      <td>Miguel Cabrera</td>\n",
       "      <td>DET</td>\n",
       "      <td>1B</td>\n",
       "      <td>28000000</td>\n",
       "      <td>2014</td>\n",
       "      <td>2023</td>\n",
       "      <td>10</td>\n",
       "    </tr>\n",
       "    <tr>\n",
       "      <th>4</th>\n",
       "      <td>Justin Verlander</td>\n",
       "      <td>DET</td>\n",
       "      <td>SP</td>\n",
       "      <td>28000000</td>\n",
       "      <td>2013</td>\n",
       "      <td>2019</td>\n",
       "      <td>7</td>\n",
       "    </tr>\n",
       "  </tbody>\n",
       "</table>\n",
       "</div>"
      ],
      "text/plain": [
       "               name team pos    salary  start_year  end_year  years\n",
       "0   Clayton Kershaw  LAD  SP  33000000        2014      2020      7\n",
       "1      Zack Greinke  ARI  SP  31876966        2016      2021      6\n",
       "2       David Price  BOS  SP  30000000        2016      2022      7\n",
       "3    Miguel Cabrera  DET  1B  28000000        2014      2023     10\n",
       "4  Justin Verlander  DET  SP  28000000        2013      2019      7"
      ]
     },
     "execution_count": 13,
     "metadata": {},
     "output_type": "execute_result"
    }
   ],
   "source": [
    "df.head()"
   ]
  }
 ],
 "metadata": {
  "kernelspec": {
   "display_name": "Python 3",
   "language": "python",
   "name": "python3"
  },
  "language_info": {
   "codemirror_mode": {
    "name": "ipython",
    "version": 3
   },
   "file_extension": ".py",
   "mimetype": "text/x-python",
   "name": "python",
   "nbconvert_exporter": "python",
   "pygments_lexer": "ipython3",
   "version": "3.12.0"
  }
 },
 "nbformat": 4,
 "nbformat_minor": 2
}
